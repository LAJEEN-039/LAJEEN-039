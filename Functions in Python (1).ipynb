{
 "cells": [
  {
   "cell_type": "code",
   "execution_count": 5,
   "id": "43df529e-d9c2-43cd-b164-bf1b12c7c92d",
   "metadata": {},
   "outputs": [
    {
     "name": "stdout",
     "output_type": "stream",
     "text": [
      "Hello, Lajeen! The currnt time is 2024-11-28 20:57:35.\n"
     ]
    }
   ],
   "source": [
    "#QUESTION NO.1\n",
    "from datetime import datetime\n",
    "\n",
    "def greet_with_time(name):\n",
    "    \"\"\"Prints a greeting message with the currnet time.\"\"\"\n",
    "    current_time = datetime.now().strftime(\"%Y-%m-%d %H:%M:%S\")\n",
    "    print(f\"Hello, {name}! The currnt time is {current_time}.\")\n",
    "\n",
    "greet_with_time(\"Lajeen\")"
   ]
  },
  {
   "cell_type": "code",
   "execution_count": 7,
   "id": "e82b2051-6713-495a-878b-ad4a71e2c324",
   "metadata": {},
   "outputs": [
    {
     "name": "stdout",
     "output_type": "stream",
     "text": [
      "The average is : 53.0\n"
     ]
    }
   ],
   "source": [
    "#QUESTION NO. 2 \n",
    "def calculate_average(num1, num2, num3):\n",
    "    \"\"\"Calculates and returns the average of three numbers.\"\"\"\n",
    "    average = (num1 + num2 + num3)/3\n",
    "    return average\n",
    "\n",
    "result = calculate_average(6, 99, 54)\n",
    "print(f\"The average is : {result}\")"
   ]
  },
  {
   "cell_type": "code",
   "execution_count": 9,
   "id": "e5cf40f3-7d7a-48ff-8ed8-f97ea4677c54",
   "metadata": {},
   "outputs": [
    {
     "name": "stdout",
     "output_type": "stream",
     "text": [
      "72.0\n"
     ]
    }
   ],
   "source": [
    "#QUESTION NO.3\n",
    "def calculate_discount(price, discount_percentage=10):\n",
    "    return price - (price * discount_percentage / 100)\n",
    "\n",
    "print(calculate_discount(80))"
   ]
  },
  {
   "cell_type": "code",
   "execution_count": 13,
   "id": "fac327d4-14b3-49e9-b56b-c4f915ee2b17",
   "metadata": {},
   "outputs": [
    {
     "name": "stdout",
     "output_type": "stream",
     "text": [
      "Name: LAJEEN ADNAN\n",
      "Age: 19\n",
      "City: LAHORE\n"
     ]
    }
   ],
   "source": [
    "#QUESTION NO.4 \n",
    "def print_info(name, age, city):\n",
    "    print(f\"Name: {name}\")\n",
    "    print(f\"Age: {age}\")\n",
    "    print(f\"City: {city}\")\n",
    "\n",
    "print_info(name=\"LAJEEN ADNAN\", age=19, city=\"LAHORE\")"
   ]
  },
  {
   "cell_type": "code",
   "execution_count": 15,
   "id": "60cf1ffd-89b5-49bd-95a0-fc67747e0ca6",
   "metadata": {},
   "outputs": [
    {
     "name": "stdout",
     "output_type": "stream",
     "text": [
      "60\n",
      "9\n"
     ]
    }
   ],
   "source": [
    "#QUESTION NO.5 \n",
    "def find_max(*args):\n",
    "    return max(args)\n",
    "\n",
    "print(find_max(10, 15, 60, 6))\n",
    "print(find_max(2, 6, -7, 9))"
   ]
  },
  {
   "cell_type": "code",
   "execution_count": 17,
   "id": "65e48015-36b2-4da7-a06b-74ff7e89868b",
   "metadata": {},
   "outputs": [
    {
     "name": "stdout",
     "output_type": "stream",
     "text": [
      "The factorial of 5 is:120\n"
     ]
    }
   ],
   "source": [
    "#QUESTION NO.6\n",
    "def factorial(n):\n",
    "    if n ==0 or n==1:\n",
    "        return 1\n",
    "    return n * factorial(n-1)\n",
    "result = factorial(5)\n",
    "print(f\"The factorial of 5 is:{result}\")"
   ]
  },
  {
   "cell_type": "code",
   "execution_count": 19,
   "id": "a4321401-32e6-48a8-9544-c2a6517bb4bf",
   "metadata": {},
   "outputs": [
    {
     "name": "stdout",
     "output_type": "stream",
     "text": [
      "Result: [1, 4, 9, 16, 25]\n"
     ]
    }
   ],
   "source": [
    "#QUESTION NO.7\n",
    "def apply_function(func, numbers):\n",
    "    return[func(num) for num in numbers]\n",
    "def square(x):\n",
    "    return x **2\n",
    "\n",
    "result = apply_function(square, [1, 2, 3, 4, 5])\n",
    "print(f\"Result: {result}\")"
   ]
  },
  {
   "cell_type": "code",
   "execution_count": 23,
   "id": "1817295f-1506-47b4-afa9-9b2c11f37b58",
   "metadata": {},
   "outputs": [
    {
     "name": "stdout",
     "output_type": "stream",
     "text": [
      "The square of 8 is : 64\n"
     ]
    }
   ],
   "source": [
    "#QUESTION NO. 8 \n",
    "square = lambda x: x ** 2\n",
    "result = square(8)\n",
    "print(f\"The square of 8 is : {result}\")"
   ]
  },
  {
   "cell_type": "code",
   "execution_count": 25,
   "id": "f9926b72-d7da-458b-8bfa-3d91a8b7fe12",
   "metadata": {},
   "outputs": [
    {
     "name": "stdout",
     "output_type": "stream",
     "text": [
      "Result: [2, 4, 6, 8, 10]\n"
     ]
    }
   ],
   "source": [
    "#QUESTION NO. 9\n",
    "def apply_operation(func, numbers):\n",
    "    return[func(num) for num in numbers]\n",
    "def double(x):\n",
    "    return x * 2\n",
    "\n",
    "result = apply_operation(double, [1, 2, 3, 4, 5])\n",
    "print(f\"Result: {result}\")"
   ]
  },
  {
   "cell_type": "code",
   "execution_count": 39,
   "id": "e6c9acf0-5137-4175-b924-96a298f5f919",
   "metadata": {},
   "outputs": [
    {
     "name": "stdout",
     "output_type": "stream",
     "text": [
      "Execution time of example_function: 0.031627 seconds\n",
      "Result: 27377883000\n"
     ]
    }
   ],
   "source": [
    "#QUESTION NO. 10\n",
    "import time\n",
    "def time_it(func):\n",
    "    def wrapper(*args, **kwargs):\n",
    "        start_time = time.time() \n",
    "        result = func(*args, **kwargs)  \n",
    "        end_time = time.time()  \n",
    "        execution_time = end_time - start_time  \n",
    "        print(f\"Execution time of {func.__name__}: {execution_time:.6f} seconds\")\n",
    "        return result  \n",
    "    return wrapper\n",
    "\n",
    "@time_it\n",
    "def example_function(n):\n",
    "    total = 0\n",
    "    for i in range(n):\n",
    "        total += i\n",
    "    return total\n",
    "\n",
    "\n",
    "result = example_function(234000)\n",
    "print(f\"Result: {result}\")"
   ]
  },
  {
   "cell_type": "code",
   "execution_count": null,
   "id": "9ee4e598-b4af-4b36-a337-92f775f0509a",
   "metadata": {},
   "outputs": [],
   "source": []
  }
 ],
 "metadata": {
  "kernelspec": {
   "display_name": "Python 3 (ipykernel)",
   "language": "python",
   "name": "python3"
  },
  "language_info": {
   "codemirror_mode": {
    "name": "ipython",
    "version": 3
   },
   "file_extension": ".py",
   "mimetype": "text/x-python",
   "name": "python",
   "nbconvert_exporter": "python",
   "pygments_lexer": "ipython3",
   "version": "3.12.4"
  }
 },
 "nbformat": 4,
 "nbformat_minor": 5
}
