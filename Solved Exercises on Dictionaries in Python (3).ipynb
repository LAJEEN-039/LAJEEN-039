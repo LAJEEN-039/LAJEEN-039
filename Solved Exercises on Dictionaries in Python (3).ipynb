{
 "cells": [
  {
   "cell_type": "code",
   "execution_count": null,
   "id": "454c51df-d96e-47bb-98e3-c60636befc3a",
   "metadata": {},
   "outputs": [],
   "source": [
    "#Practice Questions "
   ]
  },
  {
   "cell_type": "code",
   "execution_count": null,
   "id": "c530c1cc-b959-46d1-8445-230d84e6e067",
   "metadata": {
    "jp-MarkdownHeadingCollapsed": true
   },
   "outputs": [],
   "source": [
    " #Lajeen Adnan\n",
    " #FA24-BBD-039"
   ]
  },
  {
   "cell_type": "code",
   "execution_count": null,
   "id": "51ffa26d-d7de-49e6-84ab-d931b24b252c",
   "metadata": {},
   "outputs": [],
   "source": [
    "#QUESTION NO. 1"
   ]
  },
  {
   "cell_type": "code",
   "execution_count": 7,
   "id": "ea60e500-c125-449d-809c-cf7b7cd6f9ac",
   "metadata": {},
   "outputs": [
    {
     "name": "stdout",
     "output_type": "stream",
     "text": [
      "Lajeen\n",
      "19\n",
      "Lahore\n",
      "traveling\n"
     ]
    }
   ],
   "source": [
    "#(a)\n",
    "my_dic = {'name': 'Lajeen' , 'age': 19 , 'city':'Lahore' , 'hobbies': 'traveling'}\n",
    "print(my_dic['name'])\n",
    "print(my_dic['age'])\n",
    "print(my_dic['city'])\n",
    "print(my_dic['hobbies'])"
   ]
  },
  {
   "cell_type": "code",
   "execution_count": 59,
   "id": "fcf04438-eee5-4f76-9d8f-6577d3bf3bba",
   "metadata": {},
   "outputs": [
    {
     "name": "stdout",
     "output_type": "stream",
     "text": [
      "{'Hello,': 1, 'world!': 1, 'Hello': 1, 'Python.': 2, 'Welcome': 1, 'to': 1, 'the': 1, 'world': 1, 'of': 1, 'Python': 1, 'is': 1, 'great.': 1}\n"
     ]
    }
   ],
   "source": [
    "#(b)\n",
    "text= \"Hello, world! Hello Python. Welcome to the world of Python. Python is great.\"\n",
    "words = text.split()\n",
    "word_freq = {}\n",
    "for word in words:\n",
    "     if word in word_freq:\n",
    "         word_freq[word]+=1\n",
    "     else:\n",
    "         word_freq[word]=1\n",
    "print(word_freq)\n"
   ]
  },
  {
   "cell_type": "code",
   "execution_count": 61,
   "id": "2c08fe21-069e-4e5a-97f8-640be4312358",
   "metadata": {},
   "outputs": [
    {
     "name": "stdout",
     "output_type": "stream",
     "text": [
      "Current Inventory\n",
      "Oranges:15\n",
      "Peaches:7\n",
      "\n",
      "Updated Inventory:\n",
      "Oranges:18\n",
      "Peaches:11\n"
     ]
    }
   ],
   "source": [
    "#(c)\n",
    "inventory={'Oranges':15,\n",
    "           'Peaches' : 7}\n",
    "print(\"Current Inventory\")\n",
    "for item, quantity in inventory.items():\n",
    "    print(f\"{item}:{quantity}\")\n",
    "inventory[\"Oranges\"] +=3\n",
    "inventory[\"Peaches\"] +=4\n",
    "print(\"\\nUpdated Inventory:\")\n",
    "for item, quantity in inventory.items():\n",
    "    print(f\"{item}:{quantity}\")"
   ]
  },
  {
   "cell_type": "code",
   "execution_count": 71,
   "id": "73aeab26-af84-412b-afc3-dc7434a06644",
   "metadata": {},
   "outputs": [
    {
     "name": "stdout",
     "output_type": "stream",
     "text": [
      " The most popular category is 'Vegetables' with 3 orders.\n"
     ]
    }
   ],
   "source": [
    "#(d)\n",
    "orders = [\"Cloths\" , \"Fruits\" , \"Vegetables\" , \"Vegetables\" , \"Cloths\", \"Electronics\" , \"Vegetables\" , \"Fruits\" ]\n",
    "category_counts ={}\n",
    "for category in orders:\n",
    "    if category in category_counts:\n",
    "        category_counts[category] += 1\n",
    "    else:\n",
    "        category_counts[category] = 1\n",
    "most_popular = max(category_counts, key=category_counts.get)\n",
    "print(f\" The most popular category is '{most_popular}' with {category_counts[most_popular]} orders.\")"
   ]
  },
  {
   "cell_type": "code",
   "execution_count": 48,
   "id": "d315bfbe-70b9-41d1-b33f-4be821c2fe42",
   "metadata": {},
   "outputs": [
    {
     "name": "stdout",
     "output_type": "stream",
     "text": [
      "The average grade is :76.50\n"
     ]
    }
   ],
   "source": [
    "#(e)\n",
    "student_grades = {\n",
    "    'English' : 60,\n",
    "    'Maths' : 80,\n",
    "    'Urdu' : 92,\n",
    "    'Science' : 85,\n",
    "    'Islamiyat' : 77,\n",
    "    'Pak Studies' :65\n",
    "}\n",
    "total_grades = sum(student_grades.values())\n",
    "num_students = len(student_grades)\n",
    "average_grade = total_grades/num_students\n",
    "print(f\"The average grade is :{average_grade:.2f}\")"
   ]
  },
  {
   "cell_type": "code",
   "execution_count": 77,
   "id": "ca7e635f-90a0-415f-82ee-e981af77d945",
   "metadata": {},
   "outputs": [
    {
     "name": "stdout",
     "output_type": "stream",
     "text": [
      "Total Inventory Value: 443.35\n",
      "Low stock:apples\n"
     ]
    }
   ],
   "source": [
    "#(f)\n",
    "inventory={\n",
    "    \"oranges\" :{\"quantity\":10, \"price\": 15.99},\n",
    "    \"bananas\" : {\"quantity\":25, \"price\":7.48}\n",
    "}\n",
    "def add_product(name , quantity , price):\n",
    "    inventory[name] = {\"quantity\":quantity, \"price\": price}\n",
    "\n",
    "def update_quantity(name, quantity):\n",
    "    if name in inventory:\n",
    "        inventory[name][\"quantity\"]+= quantity\n",
    "def total_value():\n",
    "    total=0\n",
    "    for product in inventory:\n",
    "        total+=inventory[product][\"quantity\"] * inventory[product][\"price\"]\n",
    "    return total\n",
    "def low_stock():\n",
    "    for product, info in inventory.items():\n",
    "        if info[\"quantity\"] < 5:\n",
    "            print(f\"Low stock:{product}\")\n",
    "add_product(\"apples\" , 3 , 5.5 )\n",
    "update_quantity(\"oranges\" , 5)\n",
    "print(\"Total Inventory Value:\", total_value())\n",
    "low_stock()\n"
   ]
  },
  {
   "cell_type": "code",
   "execution_count": 111,
   "id": "1ed301d7-af15-475e-ab45-a306f71a0d9e",
   "metadata": {},
   "outputs": [
    {
     "name": "stdout",
     "output_type": "stream",
     "text": [
      "Highest grade in Math: ('haiqa', 92)\n",
      "Lowest grade in Math: ('minahil', 65)\n",
      "\n",
      "Sorted students by average grades:\n",
      "haiqa: 91.33\n",
      "samia: 87.67\n",
      "lajeen: 79.67\n",
      "minahil: 69.00\n"
     ]
    }
   ],
   "source": [
    "#(g)\n",
    "students = {\n",
    "    \"samia\": {\"Math\": 85, \"Science\": 90, \"English\": 88},\n",
    "    \"lajeen\": {\"Math\": 78, \"Science\": 82, \"English\": 79},\n",
    "    \"haiqa\": {\"Math\": 92, \"Science\": 88, \"English\": 94},\n",
    "    \"minahil\": {\"Math\": 65, \"Science\": 70, \"English\": 72},\n",
    "}\n",
    "\n",
    "student_averages = {}\n",
    "for student, grades in students.items():\n",
    "    total_grades = sum(grades.values())\n",
    "    average = total_grades / len(grades)\n",
    "    student_averages[student] = average\n",
    "\n",
    "subject = \"Math\"\n",
    "highest = None\n",
    "lowest = None\n",
    "for student, grades in students.items():\n",
    "    grade = grades[subject]\n",
    "    if highest is None or grade > highest[1]:\n",
    "        highest = (student, grade)\n",
    "    if lowest is None or grade < lowest[1]:\n",
    "        lowest = (student, grade)\n",
    "\n",
    "print(f\"Highest grade in {subject}: {highest}\")\n",
    "print(f\"Lowest grade in {subject}: {lowest}\")\n",
    "\n",
    "sorted_students = []\n",
    "for student, avg in student_averages.items():\n",
    "    sorted_students.append((student, avg))\n",
    "\n",
    "for i in range(len(sorted_students)):\n",
    "    for j in range(i + 1, len(sorted_students)):\n",
    "        if sorted_students[i][1] < sorted_students[j][1]:\n",
    "            sorted_students[i], sorted_students[j] = sorted_students[j], sorted_students[i]\n",
    "\n",
    "print(\"\\nSorted students by average grades:\")\n",
    "for student, avg in sorted_students:\n",
    "    print(f\"{student}: {avg:.2f}\")"
   ]
  },
  {
   "cell_type": "code",
   "execution_count": 113,
   "id": "7fc3b903-3ded-4bd5-a58f-d5e755ace92e",
   "metadata": {},
   "outputs": [
    {
     "name": "stdout",
     "output_type": "stream",
     "text": [
      "Cart: {1: 1, 2: 1}\n",
      "Total: 1417.5\n"
     ]
    }
   ],
   "source": [
    "#(h)\n",
    "products = {\n",
    "    1: {\"name\": \"fan\", \"price\": 1000, \"quantity\": 10},\n",
    "    2: {\"name\": \"bulb\", \"price\": 500, \"quantity\": 20},\n",
    "    3: {\"name\": \"blanket\", \"price\": 300, \"quantity\": 15}\n",
    "}\n",
    "\n",
    "cart = {}\n",
    "\n",
    "product_id = 1\n",
    "quantity = 2\n",
    "if product_id in products and products[product_id][\"quantity\"] >= quantity:\n",
    "    if product_id in cart:\n",
    "        cart[product_id] += quantity\n",
    "    else:\n",
    "        cart[product_id] = quantity\n",
    "    products[product_id][\"quantity\"] -= quantity\n",
    "\n",
    "product_id = 2\n",
    "quantity = 1\n",
    "if product_id in products and products[product_id][\"quantity\"] >= quantity:\n",
    "    if product_id in cart:\n",
    "        cart[product_id] += quantity\n",
    "    else:\n",
    "        cart[product_id] = quantity\n",
    "    products[product_id][\"quantity\"] -= quantity\n",
    "\n",
    "product_id = 1\n",
    "quantity = 1\n",
    "if product_id in cart and cart[product_id] >= quantity:\n",
    "    cart[product_id] -= quantity\n",
    "    products[product_id][\"quantity\"] += quantity\n",
    "    if cart[product_id] == 0:\n",
    "        del cart[product_id]\n",
    "\n",
    "total = sum(products[pid][\"price\"] * qty for pid, qty in cart.items())\n",
    "discount = 10\n",
    "tax = 5\n",
    "total -= total * (discount / 100)\n",
    "total += total * (tax / 100)\n",
    "\n",
    "print(\"Cart:\", cart)\n",
    "print(\"Total:\", total)"
   ]
  },
  {
   "cell_type": "code",
   "execution_count": null,
   "id": "021d22e1-4b23-4148-9459-cfa81f66b37b",
   "metadata": {},
   "outputs": [],
   "source": []
  }
 ],
 "metadata": {
  "kernelspec": {
   "display_name": "Python 3 (ipykernel)",
   "language": "python",
   "name": "python3"
  },
  "language_info": {
   "codemirror_mode": {
    "name": "ipython",
    "version": 3
   },
   "file_extension": ".py",
   "mimetype": "text/x-python",
   "name": "python",
   "nbconvert_exporter": "python",
   "pygments_lexer": "ipython3",
   "version": "3.12.4"
  }
 },
 "nbformat": 4,
 "nbformat_minor": 5
}
